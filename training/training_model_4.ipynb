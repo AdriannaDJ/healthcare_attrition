{
  "cells": [
    {
      "cell_type": "code",
      "execution_count": 99,
      "id": "5e6fc5b3-6504-4a96-8c16-9343fc074b6d",
      "metadata": {
        "id": "5e6fc5b3-6504-4a96-8c16-9343fc074b6d",
        "tags": []
      },
      "outputs": [],
      "source": [
        "import pandas as pd\n",
        "from sklearn.ensemble import RandomForestClassifier\n",
        "from sklearn.preprocessing import StandardScaler, OneHotEncoder\n",
        "from sklearn.model_selection import train_test_split\n",
        "from sklearn.metrics import classification_report\n",
        "import tensorflow as tf\n",
        "import numpy as np"
      ]
    },
    {
      "cell_type": "code",
      "execution_count": 100,
      "id": "0f9ef064-178d-457b-b391-9f8efb18b7f1",
      "metadata": {
        "id": "0f9ef064-178d-457b-b391-9f8efb18b7f1",
        "tags": []
      },
      "outputs": [],
      "source": [
        "url = 'https://raw.githubusercontent.com/AdriannaDJ/healthcare_attrition/main/Resources/watson_healthcare_modified.csv'\n",
        "df=pd.read_csv(url)\n",
        "# df=pd.read_csv('../Resources/watson_healthcare_modified.csv')"
      ]
    },
    {
      "cell_type": "code",
      "execution_count": 101,
      "id": "701e1934-bc0c-4f27-a75a-221094f98cb1",
      "metadata": {
        "colab": {
          "base_uri": "https://localhost:8080/"
        },
        "id": "701e1934-bc0c-4f27-a75a-221094f98cb1",
        "outputId": "a2992eda-7070-4df9-9188-d2400967e33c",
        "tags": []
      },
      "outputs": [
        {
          "name": "stdout",
          "output_type": "stream",
          "text": [
            "<class 'pandas.core.frame.DataFrame'>\n",
            "RangeIndex: 1676 entries, 0 to 1675\n",
            "Data columns (total 27 columns):\n",
            " #   Column                    Non-Null Count  Dtype \n",
            "---  ------                    --------------  ----- \n",
            " 0   Age                       1676 non-null   int64 \n",
            " 1   Attrition                 1676 non-null   object\n",
            " 2   BusinessTravel            1676 non-null   object\n",
            " 3   Department                1676 non-null   object\n",
            " 4   DistanceFromHome          1676 non-null   int64 \n",
            " 5   Education                 1676 non-null   int64 \n",
            " 6   EducationField            1676 non-null   object\n",
            " 7   EnvironmentSatisfaction   1676 non-null   int64 \n",
            " 8   Gender                    1676 non-null   object\n",
            " 9   JobInvolvement            1676 non-null   int64 \n",
            " 10  JobLevel                  1676 non-null   int64 \n",
            " 11  JobRole                   1676 non-null   object\n",
            " 12  JobSatisfaction           1676 non-null   int64 \n",
            " 13  MaritalStatus             1676 non-null   object\n",
            " 14  MonthlyIncome             1676 non-null   int64 \n",
            " 15  NumCompaniesWorked        1676 non-null   int64 \n",
            " 16  OverTime                  1676 non-null   object\n",
            " 17  PercentSalaryHike         1676 non-null   int64 \n",
            " 18  PerformanceRating         1676 non-null   int64 \n",
            " 19  RelationshipSatisfaction  1676 non-null   int64 \n",
            " 20  Shift                     1676 non-null   int64 \n",
            " 21  TotalWorkingYears         1676 non-null   int64 \n",
            " 22  WorkLifeBalance           1676 non-null   int64 \n",
            " 23  YearsAtCompany            1676 non-null   int64 \n",
            " 24  YearsInCurrentRole        1676 non-null   int64 \n",
            " 25  YearsSinceLastPromotion   1676 non-null   int64 \n",
            " 26  YearsWithCurrManager      1676 non-null   int64 \n",
            "dtypes: int64(19), object(8)\n",
            "memory usage: 353.7+ KB\n"
          ]
        }
      ],
      "source": [
        "df = df.drop(columns = ['EmployeeID', 'EmployeeCount', 'StandardHours', 'TrainingTimesLastYear', 'MonthlyRate', 'DailyRate', 'HourlyRate', 'Over18'])\n",
        "df.info()"
      ]
    },
    {
      "cell_type": "code",
      "execution_count": 102,
      "id": "e670b48e-184b-4511-a232-a3cf2f30e186",
      "metadata": {
        "colab": {
          "base_uri": "https://localhost:8080/"
        },
        "id": "e670b48e-184b-4511-a232-a3cf2f30e186",
        "outputId": "2cd9d484-2f5b-4569-f928-4436647c9bd0",
        "tags": []
      },
      "outputs": [
        {
          "name": "stdout",
          "output_type": "stream",
          "text": [
            "There should be 36 columns\n"
          ]
        }
      ],
      "source": [
        "target='Attrition'\n",
        "# remove target\n",
        "X=df.drop(columns=[target]).copy()\n",
        "# get list of columns\n",
        "cols=list(X.columns)\n",
        "# start choices dictionary to capture categorical options for HTML\n",
        "choices={col: None for col in cols}\n",
        "\n",
        "# get all categorical columns\n",
        "cat_cols=X.dtypes[X.dtypes=='object'].index\n",
        "# get all continuous columns\n",
        "cont_cols=X.dtypes[X.dtypes!='object'].index\n",
        "# get all categorical features\n",
        "unique_vals_count=df[cat_cols].nunique().sum()\n",
        "print(f'There should be {len(cont_cols)-len(cat_cols)+unique_vals_count} columns')"
      ]
    },
    {
      "cell_type": "code",
      "execution_count": 103,
      "id": "7969a15d-8f2d-4c22-865f-93368d9aacfb",
      "metadata": {
        "id": "7969a15d-8f2d-4c22-865f-93368d9aacfb",
        "tags": []
      },
      "outputs": [],
      "source": [
        "# set X as only continuous features\n",
        "X=X.drop(columns=cat_cols).copy()\n",
        "\n",
        "# OHE transform categorical features\n",
        "ohe=OneHotEncoder(sparse_output=False)\n",
        "cat_cols_transformed=ohe.fit_transform(df[cat_cols])\n",
        "categories=ohe.categories_\n",
        "cat_feature_names=ohe.get_feature_names_out()\n",
        "\n",
        "# map options to each categorical variable for HTML\n",
        "for k, v in zip(cat_cols, categories):\n",
        "    choices[k]=list(v)"
      ]
    },
    {
      "cell_type": "code",
      "execution_count": 114,
      "id": "722181dd-f2ca-4e8b-9157-cb7a098df271",
      "metadata": {
        "colab": {
          "base_uri": "https://localhost:8080/"
        },
        "id": "722181dd-f2ca-4e8b-9157-cb7a098df271",
        "outputId": "1913d974-5917-4b40-f9da-8eb7916128a4",
        "tags": []
      },
      "outputs": [
        {
          "data": {
            "text/plain": [
              "array([0, 0, 1, ..., 0, 0, 0])"
            ]
          },
          "execution_count": 114,
          "metadata": {},
          "output_type": "execute_result"
        }
      ],
      "source": [
        "X[cat_feature_names]=cat_cols_transformed\n",
        "\n",
        "y=df[target].copy()\n",
        "if y.dtype == object:\n",
        "    unique_values, indices = np.unique(y, return_inverse=True)\n",
        "    y = indices  # Replace strings with numerical indices\n",
        "\n",
        "y"
      ]
    },
    {
      "cell_type": "code",
      "execution_count": 105,
      "id": "339ebaa8-7247-48d2-8398-0d2a32e5acf0",
      "metadata": {
        "id": "339ebaa8-7247-48d2-8398-0d2a32e5acf0",
        "tags": []
      },
      "outputs": [],
      "source": [
        "X_train, X_test, y_train, y_test=train_test_split(X, y, random_state=42)"
      ]
    },
    {
      "cell_type": "code",
      "execution_count": 106,
      "id": "cac4b37c-4f2e-49d2-9182-d68fd7b9cb07",
      "metadata": {
        "id": "cac4b37c-4f2e-49d2-9182-d68fd7b9cb07",
        "tags": []
      },
      "outputs": [],
      "source": [
        "scaler=StandardScaler()\n",
        "scaler.fit(X_train)\n",
        "X_train_scaled=scaler.transform(X_train)\n",
        "X_test_scaled=scaler.transform(X_test)"
      ]
    },
    {
      "cell_type": "code",
      "execution_count": 107,
      "id": "ac56f5bb-9650-49c4-b475-e7e2c87f1db4",
      "metadata": {
        "colab": {
          "base_uri": "https://localhost:8080/"
        },
        "id": "ac56f5bb-9650-49c4-b475-e7e2c87f1db4",
        "outputId": "6e4afd3d-0620-444b-d91c-7d7cc6303963",
        "tags": []
      },
      "outputs": [
        {
          "data": {
            "text/plain": [
              "43"
            ]
          },
          "execution_count": 107,
          "metadata": {},
          "output_type": "execute_result"
        }
      ],
      "source": [
        "# Preview X_train_scaled[0]\n",
        "len(X_train_scaled[0])"
      ]
    },
    {
      "cell_type": "code",
      "execution_count": 108,
      "id": "1974bd67",
      "metadata": {
        "colab": {
          "base_uri": "https://localhost:8080/"
        },
        "id": "1974bd67",
        "outputId": "ef365c00-503f-478d-d8dc-738c46cd00dd"
      },
      "outputs": [
        {
          "name": "stdout",
          "output_type": "stream",
          "text": [
            "Model: \"sequential_13\"\n",
            "_________________________________________________________________\n",
            " Layer (type)                Output Shape              Param #   \n",
            "=================================================================\n",
            " dense_40 (Dense)            (None, 80)                3520      \n",
            "                                                                 \n",
            " dense_41 (Dense)            (None, 20)                1620      \n",
            "                                                                 \n",
            " dense_42 (Dense)            (None, 1)                 21        \n",
            "                                                                 \n",
            "=================================================================\n",
            "Total params: 5161 (20.16 KB)\n",
            "Trainable params: 5161 (20.16 KB)\n",
            "Non-trainable params: 0 (0.00 Byte)\n",
            "_________________________________________________________________\n"
          ]
        }
      ],
      "source": [
        "# Define the model - deep neural net, i.e., the number of input features and hidden nodes for each layer.\n",
        "num_features = len(X_train_scaled[0])\n",
        "num_nodes_1 = 80\n",
        "num_nodes_2 = 20\n",
        "num_nodes_4 = 1\n",
        "\n",
        "nn = tf.keras.models.Sequential()\n",
        "\n",
        "# First hidden layer\n",
        "nn.add(tf.keras.layers.Dense(units=num_nodes_1, activation=\"relu\", input_dim=num_features))\n",
        "\n",
        "# Second hidden layer\n",
        "nn.add(tf.keras.layers.Dense(units=num_nodes_2, activation=\"relu\"))\n",
        "\n",
        "# Output layer\n",
        "nn.add(tf.keras.layers.Dense(units=num_nodes_4, activation=\"sigmoid\"))\n",
        "\n",
        "# Check the structure of the model\n",
        "nn.summary()"
      ]
    },
    {
      "cell_type": "code",
      "execution_count": 109,
      "id": "b86854df",
      "metadata": {
        "id": "b86854df"
      },
      "outputs": [],
      "source": [
        "# Compile the model\n",
        "nn.compile(loss='binary_crossentropy', optimizer='adam', metrics=['accuracy'])"
      ]
    },
    {
      "cell_type": "code",
      "execution_count": 110,
      "id": "7cb12047",
      "metadata": {
        "colab": {
          "base_uri": "https://localhost:8080/"
        },
        "id": "7cb12047",
        "outputId": "1e26ec58-5b7f-4713-e1d3-f114fbc4c0dc"
      },
      "outputs": [
        {
          "name": "stdout",
          "output_type": "stream",
          "text": [
            "Epoch 1/20\n",
            "40/40 [==============================] - 1s 2ms/step - loss: 0.3523 - accuracy: 0.8870\n",
            "Epoch 2/20\n",
            "40/40 [==============================] - 0s 2ms/step - loss: 0.2396 - accuracy: 0.8998\n",
            "Epoch 3/20\n",
            "40/40 [==============================] - 0s 3ms/step - loss: 0.1908 - accuracy: 0.9244\n",
            "Epoch 4/20\n",
            "40/40 [==============================] - 0s 2ms/step - loss: 0.1594 - accuracy: 0.9356\n",
            "Epoch 5/20\n",
            "40/40 [==============================] - 0s 3ms/step - loss: 0.1387 - accuracy: 0.9411\n",
            "Epoch 6/20\n",
            "40/40 [==============================] - 0s 3ms/step - loss: 0.1230 - accuracy: 0.9539\n",
            "Epoch 7/20\n",
            "40/40 [==============================] - 0s 2ms/step - loss: 0.1103 - accuracy: 0.9554\n",
            "Epoch 8/20\n",
            "40/40 [==============================] - 0s 2ms/step - loss: 0.1019 - accuracy: 0.9610\n",
            "Epoch 9/20\n",
            "40/40 [==============================] - 0s 2ms/step - loss: 0.0924 - accuracy: 0.9666\n",
            "Epoch 10/20\n",
            "40/40 [==============================] - 0s 2ms/step - loss: 0.0834 - accuracy: 0.9666\n",
            "Epoch 11/20\n",
            "40/40 [==============================] - 0s 2ms/step - loss: 0.0765 - accuracy: 0.9737\n",
            "Epoch 12/20\n",
            "40/40 [==============================] - 0s 2ms/step - loss: 0.0696 - accuracy: 0.9730\n",
            "Epoch 13/20\n",
            "40/40 [==============================] - 0s 2ms/step - loss: 0.0654 - accuracy: 0.9769\n",
            "Epoch 14/20\n",
            "40/40 [==============================] - 0s 2ms/step - loss: 0.0575 - accuracy: 0.9793\n",
            "Epoch 15/20\n",
            "40/40 [==============================] - 0s 3ms/step - loss: 0.0516 - accuracy: 0.9841\n",
            "Epoch 16/20\n",
            "40/40 [==============================] - 0s 3ms/step - loss: 0.0480 - accuracy: 0.9833\n",
            "Epoch 17/20\n",
            "40/40 [==============================] - 0s 3ms/step - loss: 0.0424 - accuracy: 0.9881\n",
            "Epoch 18/20\n",
            "40/40 [==============================] - 0s 2ms/step - loss: 0.0376 - accuracy: 0.9920\n",
            "Epoch 19/20\n",
            "40/40 [==============================] - 0s 2ms/step - loss: 0.0368 - accuracy: 0.9897\n",
            "Epoch 20/20\n",
            "40/40 [==============================] - 0s 2ms/step - loss: 0.0325 - accuracy: 0.9920\n"
          ]
        }
      ],
      "source": [
        "# Train the model\n",
        "fit_model = nn.fit(X_train_scaled,y_train,epochs=20)"
      ]
    },
    {
      "cell_type": "code",
      "execution_count": 111,
      "id": "de4484e5",
      "metadata": {
        "colab": {
          "base_uri": "https://localhost:8080/"
        },
        "id": "de4484e5",
        "outputId": "ea9d05c9-cab7-4673-bc48-9c173115484d"
      },
      "outputs": [
        {
          "name": "stdout",
          "output_type": "stream",
          "text": [
            "14/14 - 0s - loss: 0.3559 - accuracy: 0.9069 - 163ms/epoch - 12ms/step\n",
            "Loss: 0.35586756467819214, Accuracy: 0.9069212675094604\n"
          ]
        }
      ],
      "source": [
        "# Evaluate the model using the test data\n",
        "model_loss, model_accuracy = nn.evaluate(X_test_scaled,y_test,verbose=2)\n",
        "print(f\"Loss: {model_loss}, Accuracy: {model_accuracy}\")"
      ]
    },
    {
      "cell_type": "code",
      "execution_count": null,
      "id": "2464acc5-7f54-410a-88f8-6e6282bea61a",
      "metadata": {
        "colab": {
          "base_uri": "https://localhost:8080/",
          "height": 176
        },
        "id": "2464acc5-7f54-410a-88f8-6e6282bea61a",
        "outputId": "d76dc9a9-25cd-45c1-da42-4a2efd0e7f43",
        "tags": []
      },
      "outputs": [],
      "source": [
        "# import pickle\n",
        "\n",
        "# with open('choices.pkl', 'wb') as f:\n",
        "#     pickle.dump(choices, f)\n",
        "\n",
        "# with open('scaler.pkl', 'wb') as f:\n",
        "#     pickle.dump(scaler, f)\n",
        "\n",
        "# with open('ohe.pkl', 'wb') as f:\n",
        "#     pickle.dump(ohe, f)\n",
        "\n",
        "# with open('model.pkl', 'wb') as f:\n",
        "#     pickle.dump(fit_model, f)"
      ]
    }
  ],
  "metadata": {
    "colab": {
      "provenance": []
    },
    "kernelspec": {
      "display_name": "Python 3 (ipykernel)",
      "language": "python",
      "name": "python3"
    },
    "language_info": {
      "codemirror_mode": {
        "name": "ipython",
        "version": 3
      },
      "file_extension": ".py",
      "mimetype": "text/x-python",
      "name": "python",
      "nbconvert_exporter": "python",
      "pygments_lexer": "ipython3",
      "version": "3.10.13"
    }
  },
  "nbformat": 4,
  "nbformat_minor": 5
}
