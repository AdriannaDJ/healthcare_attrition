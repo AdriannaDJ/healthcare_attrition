{
 "cells": [
  {
   "cell_type": "code",
   "execution_count": 1,
   "id": "5e6fc5b3-6504-4a96-8c16-9343fc074b6d",
   "metadata": {
    "tags": []
   },
   "outputs": [],
   "source": [
    "import pandas as pd\n",
    "from sklearn.ensemble import RandomForestClassifier\n",
    "from sklearn.preprocessing import StandardScaler, OneHotEncoder\n",
    "from sklearn.model_selection import train_test_split\n",
    "from sklearn.metrics import classification_report"
   ]
  },
  {
   "cell_type": "code",
   "execution_count": 3,
   "id": "0f9ef064-178d-457b-b391-9f8efb18b7f1",
   "metadata": {
    "tags": []
   },
   "outputs": [],
   "source": [
    "df=pd.read_csv('../data/watson_healthcare_modified.csv')"
   ]
  },
  {
   "cell_type": "code",
   "execution_count": 5,
   "id": "701e1934-bc0c-4f27-a75a-221094f98cb1",
   "metadata": {
    "tags": []
   },
   "outputs": [
    {
     "name": "stdout",
     "output_type": "stream",
     "text": [
      "<class 'pandas.core.frame.DataFrame'>\n",
      "RangeIndex: 1676 entries, 0 to 1675\n",
      "Data columns (total 31 columns):\n",
      " #   Column                    Non-Null Count  Dtype \n",
      "---  ------                    --------------  ----- \n",
      " 0   Age                       1676 non-null   int64 \n",
      " 1   Attrition                 1676 non-null   object\n",
      " 2   BusinessTravel            1676 non-null   object\n",
      " 3   DailyRate                 1676 non-null   int64 \n",
      " 4   Department                1676 non-null   object\n",
      " 5   DistanceFromHome          1676 non-null   int64 \n",
      " 6   Education                 1676 non-null   int64 \n",
      " 7   EducationField            1676 non-null   object\n",
      " 8   EnvironmentSatisfaction   1676 non-null   int64 \n",
      " 9   Gender                    1676 non-null   object\n",
      " 10  HourlyRate                1676 non-null   int64 \n",
      " 11  JobInvolvement            1676 non-null   int64 \n",
      " 12  JobLevel                  1676 non-null   int64 \n",
      " 13  JobRole                   1676 non-null   object\n",
      " 14  JobSatisfaction           1676 non-null   int64 \n",
      " 15  MaritalStatus             1676 non-null   object\n",
      " 16  MonthlyIncome             1676 non-null   int64 \n",
      " 17  MonthlyRate               1676 non-null   int64 \n",
      " 18  NumCompaniesWorked        1676 non-null   int64 \n",
      " 19  Over18                    1676 non-null   object\n",
      " 20  OverTime                  1676 non-null   object\n",
      " 21  PercentSalaryHike         1676 non-null   int64 \n",
      " 22  PerformanceRating         1676 non-null   int64 \n",
      " 23  RelationshipSatisfaction  1676 non-null   int64 \n",
      " 24  Shift                     1676 non-null   int64 \n",
      " 25  TotalWorkingYears         1676 non-null   int64 \n",
      " 26  WorkLifeBalance           1676 non-null   int64 \n",
      " 27  YearsAtCompany            1676 non-null   int64 \n",
      " 28  YearsInCurrentRole        1676 non-null   int64 \n",
      " 29  YearsSinceLastPromotion   1676 non-null   int64 \n",
      " 30  YearsWithCurrManager      1676 non-null   int64 \n",
      "dtypes: int64(22), object(9)\n",
      "memory usage: 406.0+ KB\n"
     ]
    }
   ],
   "source": [
    "df = df.drop(columns = ['EmployeeID', 'EmployeeCount', 'StandardHours', 'TrainingTimesLastYear'])\n",
    "\n",
    "df.info()\n"
   ]
  },
  {
   "cell_type": "code",
   "execution_count": 6,
   "id": "e670b48e-184b-4511-a232-a3cf2f30e186",
   "metadata": {
    "tags": []
   },
   "outputs": [
    {
     "name": "stdout",
     "output_type": "stream",
     "text": [
      "There should be 39 columns\n"
     ]
    }
   ],
   "source": [
    "target='Attrition'\n",
    "# remove target\n",
    "X=df.drop(columns=['Attrition']).copy()\n",
    "# get list of columns\n",
    "cols=list(X.columns)\n",
    "# start choices dictionary to capture categorical options for HTML\n",
    "choices={col: None for col in cols}\n",
    "\n",
    "# get all categorical columns\n",
    "cat_cols=X.dtypes[X.dtypes=='object'].index\n",
    "# get all continuous columns\n",
    "cont_cols=X.dtypes[X.dtypes!='object'].index\n",
    "# get all categorical features\n",
    "unique_vals_count=df[cat_cols].nunique().sum()\n",
    "print(f'There should be {len(cont_cols)-len(cat_cols)+unique_vals_count} columns')"
   ]
  },
  {
   "cell_type": "code",
   "execution_count": 7,
   "id": "7969a15d-8f2d-4c22-865f-93368d9aacfb",
   "metadata": {
    "tags": []
   },
   "outputs": [],
   "source": [
    "# set X as only continuous features\n",
    "X=X.drop(columns=cat_cols).copy()\n",
    "\n",
    "# OHE transform categorical features\n",
    "ohe=OneHotEncoder(sparse_output=False)\n",
    "cat_cols_transformed=ohe.fit_transform(df[cat_cols])\n",
    "categories=ohe.categories_\n",
    "cat_feature_names=ohe.get_feature_names_out()\n",
    "\n",
    "# map options to each categorical variable for HTML\n",
    "for k, v in zip(cat_cols, categories): \n",
    "    choices[k]=list(v)"
   ]
  },
  {
   "cell_type": "code",
   "execution_count": 8,
   "id": "722181dd-f2ca-4e8b-9157-cb7a098df271",
   "metadata": {
    "tags": []
   },
   "outputs": [],
   "source": [
    "X[cat_feature_names]=cat_cols_transformed\n",
    "y=df[target].copy()"
   ]
  },
  {
   "cell_type": "code",
   "execution_count": 9,
   "id": "339ebaa8-7247-48d2-8398-0d2a32e5acf0",
   "metadata": {
    "tags": []
   },
   "outputs": [],
   "source": [
    "X_train, X_test, y_train, y_test=train_test_split(X, y)"
   ]
  },
  {
   "cell_type": "code",
   "execution_count": 14,
   "id": "cac4b37c-4f2e-49d2-9182-d68fd7b9cb07",
   "metadata": {
    "tags": []
   },
   "outputs": [],
   "source": [
    "scaler=StandardScaler()\n",
    "scaler.fit(X_train)\n",
    "X_train_scaled=scaler.transform(X_train)\n",
    "X_test_scaled=scaler.transform(X_test)"
   ]
  },
  {
   "cell_type": "code",
   "execution_count": 15,
   "id": "ac56f5bb-9650-49c4-b475-e7e2c87f1db4",
   "metadata": {
    "tags": []
   },
   "outputs": [
    {
     "name": "stdout",
     "output_type": "stream",
     "text": [
      "Train score: 0.9968178202068417\n",
      "Test score: 0.8997613365155132\n"
     ]
    }
   ],
   "source": [
    "rfc=RandomForestClassifier()\n",
    "rfc.fit(X_train_scaled, y_train)\n",
    "print(f'Train score: {rfc.score(X_train_scaled, y_train)}')\n",
    "print(f'Test score: {rfc.score(X_test_scaled, y_test)}')"
   ]
  },
  {
   "cell_type": "code",
   "execution_count": 16,
   "id": "54993cc5-0a42-4367-a4f1-a7bf449017cd",
   "metadata": {
    "tags": []
   },
   "outputs": [
    {
     "name": "stdout",
     "output_type": "stream",
     "text": [
      "              precision    recall  f1-score   support\n",
      "\n",
      "          No       0.90      0.99      0.94       362\n",
      "         Yes       0.89      0.30      0.45        57\n",
      "\n",
      "    accuracy                           0.90       419\n",
      "   macro avg       0.90      0.65      0.70       419\n",
      "weighted avg       0.90      0.90      0.88       419\n",
      "\n"
     ]
    }
   ],
   "source": [
    "print(classification_report(y_test, rfc.predict(X_test_scaled)))"
   ]
  },
  {
   "cell_type": "code",
   "execution_count": 17,
   "id": "54983049-314c-41da-93b7-d48781b6dbf4",
   "metadata": {
    "scrolled": true,
    "tags": []
   },
   "outputs": [
    {
     "ename": "NameError",
     "evalue": "name 'results' is not defined",
     "output_type": "error",
     "traceback": [
      "\u001b[0;31m---------------------------------------------------------------------------\u001b[0m",
      "\u001b[0;31mNameError\u001b[0m                                 Traceback (most recent call last)",
      "Cell \u001b[0;32mIn[17], line 2\u001b[0m\n\u001b[1;32m      1\u001b[0m \u001b[38;5;66;03m# sample 'yes' prediction\u001b[39;00m\n\u001b[0;32m----> 2\u001b[0m sample_yes\u001b[38;5;241m=\u001b[39mpd\u001b[38;5;241m.\u001b[39mconcat([X_test\u001b[38;5;241m.\u001b[39miloc[idx] \u001b[38;5;28;01mfor\u001b[39;00m idx, result \u001b[38;5;129;01min\u001b[39;00m \u001b[38;5;28menumerate\u001b[39m(\u001b[43mresults\u001b[49m) \u001b[38;5;28;01mif\u001b[39;00m result\u001b[38;5;241m==\u001b[39m\u001b[38;5;124m'\u001b[39m\u001b[38;5;124myes\u001b[39m\u001b[38;5;124m'\u001b[39m], axis\u001b[38;5;241m=\u001b[39m\u001b[38;5;241m1\u001b[39m)\u001b[38;5;241m.\u001b[39mT\n\u001b[1;32m      3\u001b[0m sample_yes\u001b[38;5;241m.\u001b[39miloc[\u001b[38;5;241m0\u001b[39m]\n",
      "\u001b[0;31mNameError\u001b[0m: name 'results' is not defined"
     ]
    }
   ],
   "source": [
    "# sample 'yes' prediction\n",
    "sample_yes=pd.concat([X_test.iloc[idx] for idx, result in enumerate(results) if result=='yes'], axis=1).T\n",
    "sample_yes.iloc[0]"
   ]
  },
  {
   "cell_type": "code",
   "execution_count": 18,
   "id": "2464acc5-7f54-410a-88f8-6e6282bea61a",
   "metadata": {
    "tags": []
   },
   "outputs": [],
   "source": [
    "import pickle\n",
    "\n",
    "with open('choices.pkl', 'wb') as f: \n",
    "    pickle.dump(choices, f)\n",
    "        \n",
    "with open('scaler.pkl', 'wb') as f: \n",
    "    pickle.dump(scaler, f)\n",
    "    \n",
    "with open('ohe.pkl', 'wb') as f: \n",
    "    pickle.dump(ohe, f)    \n",
    "    \n",
    "with open('model.pkl', 'wb') as f: \n",
    "    pickle.dump(rfc, f)"
   ]
  },
  {
   "cell_type": "code",
   "execution_count": null,
   "id": "4bb6af8b-206b-4600-b3f0-d068e0360153",
   "metadata": {},
   "outputs": [],
   "source": []
  }
 ],
 "metadata": {
  "kernelspec": {
   "display_name": "Python 3 (ipykernel)",
   "language": "python",
   "name": "python3"
  },
  "language_info": {
   "codemirror_mode": {
    "name": "ipython",
    "version": 3
   },
   "file_extension": ".py",
   "mimetype": "text/x-python",
   "name": "python",
   "nbconvert_exporter": "python",
   "pygments_lexer": "ipython3",
   "version": "3.10.13"
  }
 },
 "nbformat": 4,
 "nbformat_minor": 5
}
