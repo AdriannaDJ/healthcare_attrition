{
 "cells": [
  {
   "cell_type": "code",
   "execution_count": 1,
   "id": "5e6fc5b3-6504-4a96-8c16-9343fc074b6d",
   "metadata": {
    "tags": []
   },
   "outputs": [
    {
     "name": "stdout",
     "output_type": "stream",
     "text": [
      "Requirement already satisfied: lazypredict in c:\\users\\parap\\anaconda3\\envs\\dev\\lib\\site-packages (0.2.12)\n",
      "Requirement already satisfied: click in c:\\users\\parap\\anaconda3\\envs\\dev\\lib\\site-packages (from lazypredict) (8.1.7)\n",
      "Requirement already satisfied: scikit-learn in c:\\users\\parap\\anaconda3\\envs\\dev\\lib\\site-packages (from lazypredict) (1.3.0)\n",
      "Requirement already satisfied: pandas in c:\\users\\parap\\anaconda3\\envs\\dev\\lib\\site-packages (from lazypredict) (2.1.4)\n",
      "Requirement already satisfied: tqdm in c:\\users\\parap\\anaconda3\\envs\\dev\\lib\\site-packages (from lazypredict) (4.65.0)\n",
      "Requirement already satisfied: joblib in c:\\users\\parap\\anaconda3\\envs\\dev\\lib\\site-packages (from lazypredict) (1.2.0)\n",
      "Requirement already satisfied: lightgbm in c:\\users\\parap\\anaconda3\\envs\\dev\\lib\\site-packages (from lazypredict) (4.4.0)\n",
      "Requirement already satisfied: xgboost in c:\\users\\parap\\anaconda3\\envs\\dev\\lib\\site-packages (from lazypredict) (2.1.0)\n",
      "Requirement already satisfied: colorama in c:\\users\\parap\\anaconda3\\envs\\dev\\lib\\site-packages (from click->lazypredict) (0.4.6)\n",
      "Requirement already satisfied: numpy>=1.17.0 in c:\\users\\parap\\anaconda3\\envs\\dev\\lib\\site-packages (from lightgbm->lazypredict) (1.26.4)\n",
      "Requirement already satisfied: scipy in c:\\users\\parap\\anaconda3\\envs\\dev\\lib\\site-packages (from lightgbm->lazypredict) (1.11.4)\n",
      "Requirement already satisfied: python-dateutil>=2.8.2 in c:\\users\\parap\\anaconda3\\envs\\dev\\lib\\site-packages (from pandas->lazypredict) (2.8.2)\n",
      "Requirement already satisfied: pytz>=2020.1 in c:\\users\\parap\\anaconda3\\envs\\dev\\lib\\site-packages (from pandas->lazypredict) (2023.3.post1)\n",
      "Requirement already satisfied: tzdata>=2022.1 in c:\\users\\parap\\anaconda3\\envs\\dev\\lib\\site-packages (from pandas->lazypredict) (2023.3)\n",
      "Requirement already satisfied: threadpoolctl>=2.0.0 in c:\\users\\parap\\anaconda3\\envs\\dev\\lib\\site-packages (from scikit-learn->lazypredict) (2.2.0)\n",
      "Requirement already satisfied: six>=1.5 in c:\\users\\parap\\anaconda3\\envs\\dev\\lib\\site-packages (from python-dateutil>=2.8.2->pandas->lazypredict) (1.16.0)\n"
     ]
    }
   ],
   "source": [
    "import pandas as pd\n",
    "from sklearn.ensemble import RandomForestClassifier\n",
    "from sklearn.preprocessing import StandardScaler, OneHotEncoder\n",
    "from sklearn.model_selection import train_test_split\n",
    "from sklearn.metrics import classification_report\n",
    "# !pip install lazypredict\n",
    "from lazypredict.Supervised import LazyClassifier"
   ]
  },
  {
   "cell_type": "code",
   "execution_count": 2,
   "id": "0f9ef064-178d-457b-b391-9f8efb18b7f1",
   "metadata": {
    "tags": []
   },
   "outputs": [],
   "source": [
    "df=pd.read_csv('../Resources/watson_healthcare_modified.csv')"
   ]
  },
  {
   "cell_type": "code",
   "execution_count": 3,
   "id": "701e1934-bc0c-4f27-a75a-221094f98cb1",
   "metadata": {
    "tags": []
   },
   "outputs": [
    {
     "name": "stdout",
     "output_type": "stream",
     "text": [
      "<class 'pandas.core.frame.DataFrame'>\n",
      "RangeIndex: 1676 entries, 0 to 1675\n",
      "Data columns (total 27 columns):\n",
      " #   Column                    Non-Null Count  Dtype \n",
      "---  ------                    --------------  ----- \n",
      " 0   Age                       1676 non-null   int64 \n",
      " 1   Attrition                 1676 non-null   object\n",
      " 2   BusinessTravel            1676 non-null   object\n",
      " 3   Department                1676 non-null   object\n",
      " 4   DistanceFromHome          1676 non-null   int64 \n",
      " 5   Education                 1676 non-null   int64 \n",
      " 6   EducationField            1676 non-null   object\n",
      " 7   EnvironmentSatisfaction   1676 non-null   int64 \n",
      " 8   Gender                    1676 non-null   object\n",
      " 9   JobInvolvement            1676 non-null   int64 \n",
      " 10  JobLevel                  1676 non-null   int64 \n",
      " 11  JobRole                   1676 non-null   object\n",
      " 12  JobSatisfaction           1676 non-null   int64 \n",
      " 13  MaritalStatus             1676 non-null   object\n",
      " 14  MonthlyIncome             1676 non-null   int64 \n",
      " 15  NumCompaniesWorked        1676 non-null   int64 \n",
      " 16  OverTime                  1676 non-null   object\n",
      " 17  PercentSalaryHike         1676 non-null   int64 \n",
      " 18  PerformanceRating         1676 non-null   int64 \n",
      " 19  RelationshipSatisfaction  1676 non-null   int64 \n",
      " 20  Shift                     1676 non-null   int64 \n",
      " 21  TotalWorkingYears         1676 non-null   int64 \n",
      " 22  WorkLifeBalance           1676 non-null   int64 \n",
      " 23  YearsAtCompany            1676 non-null   int64 \n",
      " 24  YearsInCurrentRole        1676 non-null   int64 \n",
      " 25  YearsSinceLastPromotion   1676 non-null   int64 \n",
      " 26  YearsWithCurrManager      1676 non-null   int64 \n",
      "dtypes: int64(19), object(8)\n",
      "memory usage: 353.7+ KB\n"
     ]
    }
   ],
   "source": [
    "##Version 2: Remove additional columns\n",
    "df = df.drop(columns = ['EmployeeID', 'EmployeeCount', 'StandardHours', 'TrainingTimesLastYear', 'MonthlyRate', 'DailyRate', 'HourlyRate', 'Over18'])\n",
    "\n",
    "df.info()\n"
   ]
  },
  {
   "cell_type": "code",
   "execution_count": 4,
   "id": "e670b48e-184b-4511-a232-a3cf2f30e186",
   "metadata": {
    "tags": []
   },
   "outputs": [
    {
     "name": "stdout",
     "output_type": "stream",
     "text": [
      "There should be 36 columns\n"
     ]
    }
   ],
   "source": [
    "target='Attrition'\n",
    "# remove target\n",
    "X=df.drop(columns=['Attrition']).copy()\n",
    "# get list of columns\n",
    "cols=list(X.columns)\n",
    "# start choices dictionary to capture categorical options for HTML\n",
    "choices={col: None for col in cols}\n",
    "\n",
    "# get all categorical columns\n",
    "cat_cols=X.dtypes[X.dtypes=='object'].index\n",
    "# get all continuous columns\n",
    "cont_cols=X.dtypes[X.dtypes!='object'].index\n",
    "# get all categorical features\n",
    "unique_vals_count=df[cat_cols].nunique().sum()\n",
    "print(f'There should be {len(cont_cols)-len(cat_cols)+unique_vals_count} columns')"
   ]
  },
  {
   "cell_type": "code",
   "execution_count": 5,
   "id": "7969a15d-8f2d-4c22-865f-93368d9aacfb",
   "metadata": {
    "tags": []
   },
   "outputs": [],
   "source": [
    "# set X as only continuous features\n",
    "X=X.drop(columns=cat_cols).copy()\n",
    "\n",
    "# OHE transform categorical features\n",
    "ohe=OneHotEncoder(sparse_output=False)\n",
    "cat_cols_transformed=ohe.fit_transform(df[cat_cols])\n",
    "categories=ohe.categories_\n",
    "cat_feature_names=ohe.get_feature_names_out()\n",
    "\n",
    "# map options to each categorical variable for HTML\n",
    "for k, v in zip(cat_cols, categories): \n",
    "    choices[k]=list(v)"
   ]
  },
  {
   "cell_type": "code",
   "execution_count": 6,
   "id": "722181dd-f2ca-4e8b-9157-cb7a098df271",
   "metadata": {
    "tags": []
   },
   "outputs": [],
   "source": [
    "X[cat_feature_names]=cat_cols_transformed\n",
    "y=df[target].copy()"
   ]
  },
  {
   "cell_type": "code",
   "execution_count": 7,
   "id": "339ebaa8-7247-48d2-8398-0d2a32e5acf0",
   "metadata": {
    "tags": []
   },
   "outputs": [],
   "source": [
    "X_train, X_test, y_train, y_test=train_test_split(X, y)"
   ]
  },
  {
   "cell_type": "code",
   "execution_count": 8,
   "id": "cac4b37c-4f2e-49d2-9182-d68fd7b9cb07",
   "metadata": {
    "tags": []
   },
   "outputs": [],
   "source": [
    "scaler=StandardScaler()\n",
    "scaler.fit(X_train)\n",
    "X_train_scaled=scaler.transform(X_train)\n",
    "X_test_scaled=scaler.transform(X_test)"
   ]
  },
  {
   "cell_type": "code",
   "execution_count": 10,
   "id": "54993cc5-0a42-4367-a4f1-a7bf449017cd",
   "metadata": {
    "tags": []
   },
   "outputs": [
    {
     "name": "stdout",
     "output_type": "stream",
     "text": [
      "              precision    recall  f1-score   support\n",
      "\n",
      "          No       0.94      0.97      0.96       373\n",
      "         Yes       0.71      0.52      0.60        46\n",
      "\n",
      "    accuracy                           0.92       419\n",
      "   macro avg       0.82      0.75      0.78       419\n",
      "weighted avg       0.92      0.92      0.92       419\n",
      "\n"
     ]
    }
   ],
   "source": [
    "print(classification_report(y_test, rfc.predict(X_test_scaled)))"
   ]
  },
  {
   "cell_type": "code",
   "execution_count": 12,
   "id": "cffdf834-47f5-4874-8c77-40953ffd7b3f",
   "metadata": {},
   "outputs": [
    {
     "name": "stderr",
     "output_type": "stream",
     "text": [
      "  0%|          | 0/29 [00:00<?, ?it/s]"
     ]
    },
    {
     "name": "stderr",
     "output_type": "stream",
     "text": [
      "100%|██████████| 29/29 [00:09<00:00,  3.20it/s]"
     ]
    },
    {
     "name": "stdout",
     "output_type": "stream",
     "text": [
      "[LightGBM] [Info] Number of positive: 153, number of negative: 1104\n",
      "[LightGBM] [Info] Auto-choosing row-wise multi-threading, the overhead of testing was 0.001551 seconds.\n",
      "You can set `force_row_wise=true` to remove the overhead.\n",
      "And if memory is not enough, you can set `force_col_wise=true`.\n",
      "[LightGBM] [Info] Total Bins 594\n",
      "[LightGBM] [Info] Number of data points in the train set: 1257, number of used features: 42\n",
      "[LightGBM] [Info] [binary:BoostFromScore]: pavg=0.121718 -> initscore=-1.976257\n",
      "[LightGBM] [Info] Start training from score -1.976257\n",
      "[LightGBM] [Warning] No further splits with positive gain, best gain: -inf\n"
     ]
    },
    {
     "name": "stderr",
     "output_type": "stream",
     "text": [
      "\n"
     ]
    }
   ],
   "source": [
    "clf = LazyClassifier(verbose=0,ignore_warnings=True, custom_metric=None)\n",
    "models,predictions = clf.fit(X_train, X_test, y_train, y_test)"
   ]
  },
  {
   "cell_type": "code",
   "execution_count": 13,
   "id": "db086fe4",
   "metadata": {},
   "outputs": [
    {
     "name": "stdout",
     "output_type": "stream",
     "text": [
      "                               Accuracy  Balanced Accuracy ROC AUC  F1 Score  \\\n",
      "Model                                                                          \n",
      "LogisticRegression                 0.94               0.84    None      0.94   \n",
      "AdaBoostClassifier                 0.94               0.84    None      0.94   \n",
      "NearestCentroid                    0.78               0.84    None      0.82   \n",
      "LinearSVC                          0.94               0.83    None      0.94   \n",
      "BernoulliNB                        0.87               0.83    None      0.88   \n",
      "Perceptron                         0.93               0.81    None      0.93   \n",
      "SGDClassifier                      0.91               0.81    None      0.92   \n",
      "CalibratedClassifierCV             0.94               0.81    None      0.94   \n",
      "RandomForestClassifier             0.93               0.80    None      0.93   \n",
      "LinearDiscriminantAnalysis         0.93               0.80    None      0.93   \n",
      "LGBMClassifier                     0.92               0.79    None      0.92   \n",
      "DecisionTreeClassifier             0.87               0.79    None      0.88   \n",
      "SVC                                0.93               0.76    None      0.92   \n",
      "ExtraTreeClassifier                0.89               0.75    None      0.89   \n",
      "BaggingClassifier                  0.92               0.75    None      0.92   \n",
      "ExtraTreesClassifier               0.92               0.74    None      0.91   \n",
      "PassiveAggressiveClassifier        0.90               0.71    None      0.90   \n",
      "LabelPropagation                   0.90               0.69    None      0.89   \n",
      "LabelSpreading                     0.90               0.69    None      0.89   \n",
      "QuadraticDiscriminantAnalysis      0.53               0.69    None      0.61   \n",
      "GaussianNB                         0.43               0.65    None      0.50   \n",
      "RidgeClassifier                    0.92               0.65    None      0.90   \n",
      "RidgeClassifierCV                  0.92               0.65    None      0.90   \n",
      "KNeighborsClassifier               0.91               0.63    None      0.89   \n",
      "DummyClassifier                    0.89               0.50    None      0.84   \n",
      "\n",
      "                               Time Taken  \n",
      "Model                                      \n",
      "LogisticRegression                   0.06  \n",
      "AdaBoostClassifier                   0.43  \n",
      "NearestCentroid                      0.04  \n",
      "LinearSVC                            0.14  \n",
      "BernoulliNB                          0.08  \n",
      "Perceptron                           0.05  \n",
      "SGDClassifier                        0.06  \n",
      "CalibratedClassifierCV               0.16  \n",
      "RandomForestClassifier               0.92  \n",
      "LinearDiscriminantAnalysis           0.10  \n",
      "LGBMClassifier                       0.17  \n",
      "DecisionTreeClassifier               0.05  \n",
      "SVC                                  0.20  \n",
      "ExtraTreeClassifier                  0.04  \n",
      "BaggingClassifier                    0.18  \n",
      "ExtraTreesClassifier                 0.94  \n",
      "PassiveAggressiveClassifier          0.05  \n",
      "LabelPropagation                     0.23  \n",
      "LabelSpreading                       0.28  \n",
      "QuadraticDiscriminantAnalysis        0.05  \n",
      "GaussianNB                           0.11  \n",
      "RidgeClassifier                      0.16  \n",
      "RidgeClassifierCV                    0.09  \n",
      "KNeighborsClassifier                 0.53  \n",
      "DummyClassifier                      0.03  \n"
     ]
    }
   ],
   "source": [
    "# Print the summary of models\n",
    "print(models)"
   ]
  },
  {
   "cell_type": "code",
   "execution_count": 17,
   "id": "2464acc5-7f54-410a-88f8-6e6282bea61a",
   "metadata": {
    "tags": []
   },
   "outputs": [],
   "source": [
    "import pickle\n",
    "\n",
    "with open('choices.pkl', 'wb') as f: \n",
    "    pickle.dump(choices, f)\n",
    "        \n",
    "with open('scaler.pkl', 'wb') as f: \n",
    "    pickle.dump(scaler, f)\n",
    "    \n",
    "with open('ohe.pkl', 'wb') as f: \n",
    "    pickle.dump(ohe, f)    \n",
    "    \n",
    "with open('model.pkl', 'wb') as f: \n",
    "    pickle.dump(rfc, f) ##change rfc to match current model##"
   ]
  },
  {
   "cell_type": "code",
   "execution_count": null,
   "id": "4bb6af8b-206b-4600-b3f0-d068e0360153",
   "metadata": {},
   "outputs": [],
   "source": []
  }
 ],
 "metadata": {
  "kernelspec": {
   "display_name": "Python 3 (ipykernel)",
   "language": "python",
   "name": "python3"
  },
  "language_info": {
   "codemirror_mode": {
    "name": "ipython",
    "version": 3
   },
   "file_extension": ".py",
   "mimetype": "text/x-python",
   "name": "python",
   "nbconvert_exporter": "python",
   "pygments_lexer": "ipython3",
   "version": "3.10.13"
  }
 },
 "nbformat": 4,
 "nbformat_minor": 5
}
