{
 "cells": [
  {
   "cell_type": "code",
   "execution_count": 1,
   "id": "5e6fc5b3-6504-4a96-8c16-9343fc074b6d",
   "metadata": {
    "tags": []
   },
   "outputs": [
    {
     "name": "stdout",
     "output_type": "stream",
     "text": [
      "Collecting lazypredict\n",
      "  Downloading lazypredict-0.2.12-py2.py3-none-any.whl.metadata (12 kB)\n",
      "Requirement already satisfied: click in /Users/zoebennett/anaconda3/envs/dev/lib/python3.10/site-packages (from lazypredict) (8.1.7)\n",
      "Requirement already satisfied: scikit-learn in /Users/zoebennett/anaconda3/envs/dev/lib/python3.10/site-packages (from lazypredict) (1.3.0)\n",
      "Requirement already satisfied: pandas in /Users/zoebennett/anaconda3/envs/dev/lib/python3.10/site-packages (from lazypredict) (2.1.4)\n",
      "Requirement already satisfied: tqdm in /Users/zoebennett/anaconda3/envs/dev/lib/python3.10/site-packages (from lazypredict) (4.65.0)\n",
      "Requirement already satisfied: joblib in /Users/zoebennett/anaconda3/envs/dev/lib/python3.10/site-packages (from lazypredict) (1.2.0)\n",
      "Collecting lightgbm (from lazypredict)\n",
      "  Downloading lightgbm-4.4.0-py3-none-macosx_14_0_arm64.whl.metadata (19 kB)\n",
      "Collecting xgboost (from lazypredict)\n",
      "  Downloading xgboost-2.1.0-py3-none-macosx_12_0_arm64.whl.metadata (2.1 kB)\n",
      "Requirement already satisfied: numpy>=1.17.0 in /Users/zoebennett/anaconda3/envs/dev/lib/python3.10/site-packages (from lightgbm->lazypredict) (1.26.3)\n",
      "Requirement already satisfied: scipy in /Users/zoebennett/anaconda3/envs/dev/lib/python3.10/site-packages (from lightgbm->lazypredict) (1.11.4)\n",
      "Requirement already satisfied: python-dateutil>=2.8.2 in /Users/zoebennett/anaconda3/envs/dev/lib/python3.10/site-packages (from pandas->lazypredict) (2.8.2)\n",
      "Requirement already satisfied: pytz>=2020.1 in /Users/zoebennett/anaconda3/envs/dev/lib/python3.10/site-packages (from pandas->lazypredict) (2023.3.post1)\n",
      "Requirement already satisfied: tzdata>=2022.1 in /Users/zoebennett/anaconda3/envs/dev/lib/python3.10/site-packages (from pandas->lazypredict) (2023.3)\n",
      "Requirement already satisfied: threadpoolctl>=2.0.0 in /Users/zoebennett/anaconda3/envs/dev/lib/python3.10/site-packages (from scikit-learn->lazypredict) (2.2.0)\n",
      "Requirement already satisfied: six>=1.5 in /Users/zoebennett/anaconda3/envs/dev/lib/python3.10/site-packages (from python-dateutil>=2.8.2->pandas->lazypredict) (1.16.0)\n",
      "Downloading lazypredict-0.2.12-py2.py3-none-any.whl (12 kB)\n",
      "Downloading lightgbm-4.4.0-py3-none-macosx_14_0_arm64.whl (1.6 MB)\n",
      "\u001b[2K   \u001b[90m━━━━━━━━━━━━━━━━━━━━━━━━━━━━━━━━━━━━━━━━\u001b[0m \u001b[32m1.6/1.6 MB\u001b[0m \u001b[31m15.4 MB/s\u001b[0m eta \u001b[36m0:00:00\u001b[0ma \u001b[36m0:00:01\u001b[0m\n",
      "\u001b[?25hDownloading xgboost-2.1.0-py3-none-macosx_12_0_arm64.whl (1.9 MB)\n",
      "\u001b[2K   \u001b[90m━━━━━━━━━━━━━━━━━━━━━━━━━━━━━━━━━━━━━━━━\u001b[0m \u001b[32m1.9/1.9 MB\u001b[0m \u001b[31m27.7 MB/s\u001b[0m eta \u001b[36m0:00:00\u001b[0ma \u001b[36m0:00:01\u001b[0m\n",
      "\u001b[?25hInstalling collected packages: xgboost, lightgbm, lazypredict\n",
      "Successfully installed lazypredict-0.2.12 lightgbm-4.4.0 xgboost-2.1.0\n"
     ]
    }
   ],
   "source": [
    "import pandas as pd\n",
    "from sklearn.ensemble import RandomForestClassifier\n",
    "from sklearn.preprocessing import StandardScaler, OneHotEncoder\n",
    "from sklearn.model_selection import train_test_split\n",
    "from sklearn.metrics import classification_report\n",
    "!pip install lazypredict\n",
    "from lazypredict.Supervised import LazyClassifier"
   ]
  },
  {
   "cell_type": "code",
   "execution_count": 4,
   "id": "0f9ef064-178d-457b-b391-9f8efb18b7f1",
   "metadata": {
    "tags": []
   },
   "outputs": [],
   "source": [
    "df=pd.read_csv('../Resources/watson_healthcare_modified.csv')"
   ]
  },
  {
   "cell_type": "code",
   "execution_count": 5,
   "id": "701e1934-bc0c-4f27-a75a-221094f98cb1",
   "metadata": {
    "tags": []
   },
   "outputs": [
    {
     "name": "stdout",
     "output_type": "stream",
     "text": [
      "<class 'pandas.core.frame.DataFrame'>\n",
      "RangeIndex: 1676 entries, 0 to 1675\n",
      "Data columns (total 27 columns):\n",
      " #   Column                    Non-Null Count  Dtype \n",
      "---  ------                    --------------  ----- \n",
      " 0   Age                       1676 non-null   int64 \n",
      " 1   Attrition                 1676 non-null   object\n",
      " 2   BusinessTravel            1676 non-null   object\n",
      " 3   Department                1676 non-null   object\n",
      " 4   DistanceFromHome          1676 non-null   int64 \n",
      " 5   Education                 1676 non-null   int64 \n",
      " 6   EducationField            1676 non-null   object\n",
      " 7   EnvironmentSatisfaction   1676 non-null   int64 \n",
      " 8   Gender                    1676 non-null   object\n",
      " 9   JobInvolvement            1676 non-null   int64 \n",
      " 10  JobLevel                  1676 non-null   int64 \n",
      " 11  JobRole                   1676 non-null   object\n",
      " 12  JobSatisfaction           1676 non-null   int64 \n",
      " 13  MaritalStatus             1676 non-null   object\n",
      " 14  MonthlyIncome             1676 non-null   int64 \n",
      " 15  NumCompaniesWorked        1676 non-null   int64 \n",
      " 16  OverTime                  1676 non-null   object\n",
      " 17  PercentSalaryHike         1676 non-null   int64 \n",
      " 18  PerformanceRating         1676 non-null   int64 \n",
      " 19  RelationshipSatisfaction  1676 non-null   int64 \n",
      " 20  Shift                     1676 non-null   int64 \n",
      " 21  TotalWorkingYears         1676 non-null   int64 \n",
      " 22  WorkLifeBalance           1676 non-null   int64 \n",
      " 23  YearsAtCompany            1676 non-null   int64 \n",
      " 24  YearsInCurrentRole        1676 non-null   int64 \n",
      " 25  YearsSinceLastPromotion   1676 non-null   int64 \n",
      " 26  YearsWithCurrManager      1676 non-null   int64 \n",
      "dtypes: int64(19), object(8)\n",
      "memory usage: 353.7+ KB\n"
     ]
    }
   ],
   "source": [
    "##Version 2: Remove additional columns\n",
    "df = df.drop(columns = ['EmployeeID', 'EmployeeCount', 'StandardHours', 'TrainingTimesLastYear', 'MonthlyRate', 'DailyRate', 'HourlyRate', 'Over18'])\n",
    "\n",
    "df.info()\n"
   ]
  },
  {
   "cell_type": "code",
   "execution_count": 6,
   "id": "e670b48e-184b-4511-a232-a3cf2f30e186",
   "metadata": {
    "tags": []
   },
   "outputs": [
    {
     "name": "stdout",
     "output_type": "stream",
     "text": [
      "There should be 36 columns\n"
     ]
    }
   ],
   "source": [
    "target='Attrition'\n",
    "# remove target\n",
    "X=df.drop(columns=['Attrition']).copy()\n",
    "# get list of columns\n",
    "cols=list(X.columns)\n",
    "# start choices dictionary to capture categorical options for HTML\n",
    "choices={col: None for col in cols}\n",
    "\n",
    "# get all categorical columns\n",
    "cat_cols=X.dtypes[X.dtypes=='object'].index\n",
    "# get all continuous columns\n",
    "cont_cols=X.dtypes[X.dtypes!='object'].index\n",
    "# get all categorical features\n",
    "unique_vals_count=df[cat_cols].nunique().sum()\n",
    "print(f'There should be {len(cont_cols)-len(cat_cols)+unique_vals_count} columns')"
   ]
  },
  {
   "cell_type": "code",
   "execution_count": 7,
   "id": "7969a15d-8f2d-4c22-865f-93368d9aacfb",
   "metadata": {
    "tags": []
   },
   "outputs": [],
   "source": [
    "# set X as only continuous features\n",
    "X=X.drop(columns=cat_cols).copy()\n",
    "\n",
    "# OHE transform categorical features\n",
    "ohe=OneHotEncoder(sparse_output=False)\n",
    "cat_cols_transformed=ohe.fit_transform(df[cat_cols])\n",
    "categories=ohe.categories_\n",
    "cat_feature_names=ohe.get_feature_names_out()\n",
    "\n",
    "# map options to each categorical variable for HTML\n",
    "for k, v in zip(cat_cols, categories): \n",
    "    choices[k]=list(v)"
   ]
  },
  {
   "cell_type": "code",
   "execution_count": 8,
   "id": "722181dd-f2ca-4e8b-9157-cb7a098df271",
   "metadata": {
    "tags": []
   },
   "outputs": [],
   "source": [
    "X[cat_feature_names]=cat_cols_transformed\n",
    "y=df[target].copy()"
   ]
  },
  {
   "cell_type": "code",
   "execution_count": 9,
   "id": "339ebaa8-7247-48d2-8398-0d2a32e5acf0",
   "metadata": {
    "tags": []
   },
   "outputs": [],
   "source": [
    "X_train, X_test, y_train, y_test=train_test_split(X, y)"
   ]
  },
  {
   "cell_type": "code",
   "execution_count": 10,
   "id": "cac4b37c-4f2e-49d2-9182-d68fd7b9cb07",
   "metadata": {
    "tags": []
   },
   "outputs": [],
   "source": [
    "scaler=StandardScaler()\n",
    "scaler.fit(X_train)\n",
    "X_train_scaled=scaler.transform(X_train)\n",
    "X_test_scaled=scaler.transform(X_test)"
   ]
  },
  {
   "cell_type": "code",
   "execution_count": 11,
   "id": "ac56f5bb-9650-49c4-b475-e7e2c87f1db4",
   "metadata": {
    "tags": []
   },
   "outputs": [
    {
     "name": "stdout",
     "output_type": "stream",
     "text": [
      "Train score: 0.9968178202068417\n",
      "Test score: 0.9212410501193318\n"
     ]
    }
   ],
   "source": [
    "rfc=RandomForestClassifier()\n",
    "rfc.fit(X_train_scaled, y_train)\n",
    "print(f'Train score: {rfc.score(X_train_scaled, y_train)}')\n",
    "print(f'Test score: {rfc.score(X_test_scaled, y_test)}')"
   ]
  },
  {
   "cell_type": "code",
   "execution_count": 12,
   "id": "54993cc5-0a42-4367-a4f1-a7bf449017cd",
   "metadata": {
    "tags": []
   },
   "outputs": [
    {
     "name": "stdout",
     "output_type": "stream",
     "text": [
      "              precision    recall  f1-score   support\n",
      "\n",
      "          No       0.93      0.99      0.96       369\n",
      "         Yes       0.84      0.42      0.56        50\n",
      "\n",
      "    accuracy                           0.92       419\n",
      "   macro avg       0.88      0.70      0.76       419\n",
      "weighted avg       0.92      0.92      0.91       419\n",
      "\n"
     ]
    }
   ],
   "source": [
    "print(classification_report(y_test, rfc.predict(X_test_scaled)))"
   ]
  },
  {
   "cell_type": "code",
   "execution_count": 14,
   "id": "cffdf834-47f5-4874-8c77-40953ffd7b3f",
   "metadata": {},
   "outputs": [
    {
     "name": "stderr",
     "output_type": "stream",
     "text": [
      " 86%|█████████████████████████████████████      | 25/29 [00:01<00:00, 24.32it/s]"
     ]
    },
    {
     "name": "stdout",
     "output_type": "stream",
     "text": [
      "[LightGBM] [Info] Number of positive: 149, number of negative: 1108\n",
      "[LightGBM] [Info] Auto-choosing row-wise multi-threading, the overhead of testing was 0.018330 seconds.\n",
      "You can set `force_row_wise=true` to remove the overhead.\n",
      "And if memory is not enough, you can set `force_col_wise=true`.\n",
      "[LightGBM] [Info] Total Bins 596\n",
      "[LightGBM] [Info] Number of data points in the train set: 1257, number of used features: 42\n",
      "[LightGBM] [Info] [binary:BoostFromScore]: pavg=0.118536 -> initscore=-2.006366\n",
      "[LightGBM] [Info] Start training from score -2.006366\n",
      "[LightGBM] [Warning] No further splits with positive gain, best gain: -inf\n"
     ]
    },
    {
     "name": "stderr",
     "output_type": "stream",
     "text": [
      "100%|███████████████████████████████████████████| 29/29 [00:01<00:00, 19.56it/s]\n"
     ]
    }
   ],
   "source": [
    "clf = LazyClassifier(verbose=0,ignore_warnings=True, custom_metric=None)\n",
    "models,predictions = clf.fit(X_train, X_test, y_train, y_test)\n"
   ]
  },
  {
   "cell_type": "code",
   "execution_count": 17,
   "id": "2464acc5-7f54-410a-88f8-6e6282bea61a",
   "metadata": {
    "tags": []
   },
   "outputs": [],
   "source": [
    "import pickle\n",
    "\n",
    "with open('choices.pkl', 'wb') as f: \n",
    "    pickle.dump(choices, f)\n",
    "        \n",
    "with open('scaler.pkl', 'wb') as f: \n",
    "    pickle.dump(scaler, f)\n",
    "    \n",
    "with open('ohe.pkl', 'wb') as f: \n",
    "    pickle.dump(ohe, f)    \n",
    "    \n",
    "with open('model.pkl', 'wb') as f: \n",
    "    pickle.dump(rfc, f)"
   ]
  },
  {
   "cell_type": "code",
   "execution_count": null,
   "id": "4bb6af8b-206b-4600-b3f0-d068e0360153",
   "metadata": {},
   "outputs": [],
   "source": []
  }
 ],
 "metadata": {
  "kernelspec": {
   "display_name": "Python 3 (ipykernel)",
   "language": "python",
   "name": "python3"
  },
  "language_info": {
   "codemirror_mode": {
    "name": "ipython",
    "version": 3
   },
   "file_extension": ".py",
   "mimetype": "text/x-python",
   "name": "python",
   "nbconvert_exporter": "python",
   "pygments_lexer": "ipython3",
   "version": "3.10.13"
  }
 },
 "nbformat": 4,
 "nbformat_minor": 5
}
