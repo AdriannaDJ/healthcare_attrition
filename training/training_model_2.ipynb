{
 "cells": [
  {
   "cell_type": "code",
   "execution_count": 1,
   "id": "5e6fc5b3-6504-4a96-8c16-9343fc074b6d",
   "metadata": {
    "tags": []
   },
   "outputs": [],
   "source": [
    "import pandas as pd\n",
    "from sklearn.ensemble import RandomForestClassifier\n",
    "from sklearn.preprocessing import StandardScaler, OneHotEncoder\n",
    "from sklearn.model_selection import train_test_split\n",
    "from sklearn.metrics import classification_report"
   ]
  },
  {
   "cell_type": "code",
   "execution_count": 2,
   "id": "0f9ef064-178d-457b-b391-9f8efb18b7f1",
   "metadata": {
    "tags": []
   },
   "outputs": [],
   "source": [
    "df=pd.read_csv('../Resources/watson_healthcare_modified.csv')"
   ]
  },
  {
   "cell_type": "code",
   "execution_count": 3,
   "id": "701e1934-bc0c-4f27-a75a-221094f98cb1",
   "metadata": {
    "tags": []
   },
   "outputs": [
    {
     "name": "stdout",
     "output_type": "stream",
     "text": [
      "<class 'pandas.core.frame.DataFrame'>\n",
      "RangeIndex: 1676 entries, 0 to 1675\n",
      "Data columns (total 27 columns):\n",
      " #   Column                    Non-Null Count  Dtype \n",
      "---  ------                    --------------  ----- \n",
      " 0   Age                       1676 non-null   int64 \n",
      " 1   Attrition                 1676 non-null   object\n",
      " 2   BusinessTravel            1676 non-null   object\n",
      " 3   Department                1676 non-null   object\n",
      " 4   DistanceFromHome          1676 non-null   int64 \n",
      " 5   Education                 1676 non-null   int64 \n",
      " 6   EducationField            1676 non-null   object\n",
      " 7   EnvironmentSatisfaction   1676 non-null   int64 \n",
      " 8   Gender                    1676 non-null   object\n",
      " 9   JobInvolvement            1676 non-null   int64 \n",
      " 10  JobLevel                  1676 non-null   int64 \n",
      " 11  JobRole                   1676 non-null   object\n",
      " 12  JobSatisfaction           1676 non-null   int64 \n",
      " 13  MaritalStatus             1676 non-null   object\n",
      " 14  MonthlyIncome             1676 non-null   int64 \n",
      " 15  NumCompaniesWorked        1676 non-null   int64 \n",
      " 16  OverTime                  1676 non-null   object\n",
      " 17  PercentSalaryHike         1676 non-null   int64 \n",
      " 18  PerformanceRating         1676 non-null   int64 \n",
      " 19  RelationshipSatisfaction  1676 non-null   int64 \n",
      " 20  Shift                     1676 non-null   int64 \n",
      " 21  TotalWorkingYears         1676 non-null   int64 \n",
      " 22  WorkLifeBalance           1676 non-null   int64 \n",
      " 23  YearsAtCompany            1676 non-null   int64 \n",
      " 24  YearsInCurrentRole        1676 non-null   int64 \n",
      " 25  YearsSinceLastPromotion   1676 non-null   int64 \n",
      " 26  YearsWithCurrManager      1676 non-null   int64 \n",
      "dtypes: int64(19), object(8)\n",
      "memory usage: 353.7+ KB\n"
     ]
    }
   ],
   "source": [
    "##Version 2: Remove additional columns\n",
    "df = df.drop(columns = ['EmployeeID', 'EmployeeCount', 'StandardHours', 'TrainingTimesLastYear', 'MonthlyRate', 'DailyRate', 'HourlyRate', 'Over18'])\n",
    "\n",
    "df.info()\n"
   ]
  },
  {
   "cell_type": "code",
   "execution_count": 4,
   "id": "e670b48e-184b-4511-a232-a3cf2f30e186",
   "metadata": {
    "tags": []
   },
   "outputs": [
    {
     "name": "stdout",
     "output_type": "stream",
     "text": [
      "There should be 36 columns\n"
     ]
    }
   ],
   "source": [
    "target='Attrition'\n",
    "# remove target\n",
    "X=df.drop(columns=['Attrition']).copy()\n",
    "# get list of columns\n",
    "cols=list(X.columns)\n",
    "# start choices dictionary to capture categorical options for HTML\n",
    "choices={col: None for col in cols}\n",
    "\n",
    "# get all categorical columns\n",
    "cat_cols=X.dtypes[X.dtypes=='object'].index\n",
    "# get all continuous columns\n",
    "cont_cols=X.dtypes[X.dtypes!='object'].index\n",
    "# get all categorical features\n",
    "unique_vals_count=df[cat_cols].nunique().sum()\n",
    "print(f'There should be {len(cont_cols)-len(cat_cols)+unique_vals_count} columns')"
   ]
  },
  {
   "cell_type": "code",
   "execution_count": 5,
   "id": "7969a15d-8f2d-4c22-865f-93368d9aacfb",
   "metadata": {
    "tags": []
   },
   "outputs": [],
   "source": [
    "# set X as only continuous features\n",
    "X=X.drop(columns=cat_cols).copy()\n",
    "\n",
    "# OHE transform categorical features\n",
    "ohe=OneHotEncoder(sparse_output=False)\n",
    "cat_cols_transformed=ohe.fit_transform(df[cat_cols])\n",
    "categories=ohe.categories_\n",
    "cat_feature_names=ohe.get_feature_names_out()\n",
    "\n",
    "# map options to each categorical variable for HTML\n",
    "for k, v in zip(cat_cols, categories): \n",
    "    choices[k]=list(v)"
   ]
  },
  {
   "cell_type": "code",
   "execution_count": 6,
   "id": "722181dd-f2ca-4e8b-9157-cb7a098df271",
   "metadata": {
    "tags": []
   },
   "outputs": [],
   "source": [
    "X[cat_feature_names]=cat_cols_transformed\n",
    "y=df[target].copy()"
   ]
  },
  {
   "cell_type": "code",
   "execution_count": 7,
   "id": "339ebaa8-7247-48d2-8398-0d2a32e5acf0",
   "metadata": {
    "tags": []
   },
   "outputs": [],
   "source": [
    "X_train, X_test, y_train, y_test=train_test_split(X, y)"
   ]
  },
  {
   "cell_type": "code",
   "execution_count": 8,
   "id": "cac4b37c-4f2e-49d2-9182-d68fd7b9cb07",
   "metadata": {
    "tags": []
   },
   "outputs": [],
   "source": [
    "scaler=StandardScaler()\n",
    "scaler.fit(X_train)\n",
    "X_train_scaled=scaler.transform(X_train)\n",
    "X_test_scaled=scaler.transform(X_test)"
   ]
  },
  {
   "cell_type": "code",
   "execution_count": 9,
   "id": "ac56f5bb-9650-49c4-b475-e7e2c87f1db4",
   "metadata": {
    "tags": []
   },
   "outputs": [
    {
     "name": "stdout",
     "output_type": "stream",
     "text": [
      "Train score: 0.9960222752585521\n",
      "Test score: 0.9021479713603818\n"
     ]
    }
   ],
   "source": [
    "rfc=RandomForestClassifier()\n",
    "rfc.fit(X_train_scaled, y_train)\n",
    "print(f'Train score: {rfc.score(X_train_scaled, y_train)}')\n",
    "print(f'Test score: {rfc.score(X_test_scaled, y_test)}')"
   ]
  },
  {
   "cell_type": "code",
   "execution_count": 10,
   "id": "54993cc5-0a42-4367-a4f1-a7bf449017cd",
   "metadata": {
    "tags": []
   },
   "outputs": [
    {
     "name": "stdout",
     "output_type": "stream",
     "text": [
      "              precision    recall  f1-score   support\n",
      "\n",
      "          No       0.90      0.99      0.94       354\n",
      "         Yes       0.88      0.43      0.58        65\n",
      "\n",
      "    accuracy                           0.90       419\n",
      "   macro avg       0.89      0.71      0.76       419\n",
      "weighted avg       0.90      0.90      0.89       419\n",
      "\n"
     ]
    }
   ],
   "source": [
    "print(classification_report(y_test, rfc.predict(X_test_scaled)))"
   ]
  },
  {
   "cell_type": "code",
   "execution_count": 11,
   "id": "54983049-314c-41da-93b7-d48781b6dbf4",
   "metadata": {
    "scrolled": true,
    "tags": []
   },
   "outputs": [],
   "source": [
    "# sample 'yes' prediction\n",
    "# sample_yes=pd.concat([X_test.iloc[idx] for idx, result in enumerate(results) if result=='yes'], axis=1).T\n",
    "# sample_yes.iloc[0]"
   ]
  },
  {
   "cell_type": "code",
   "execution_count": 12,
   "id": "2464acc5-7f54-410a-88f8-6e6282bea61a",
   "metadata": {
    "tags": []
   },
   "outputs": [],
   "source": [
    "# import pickle\n",
    "\n",
    "# with open('choices.pkl', 'wb') as f: \n",
    "#     pickle.dump(choices, f)\n",
    "        \n",
    "# with open('scaler.pkl', 'wb') as f: \n",
    "#     pickle.dump(scaler, f)\n",
    "    \n",
    "# with open('ohe.pkl', 'wb') as f: \n",
    "#     pickle.dump(ohe, f)    \n",
    "    \n",
    "# with open('model.pkl', 'wb') as f: \n",
    "#     pickle.dump(rfc, f)"
   ]
  },
  {
   "cell_type": "code",
   "execution_count": null,
   "id": "4bb6af8b-206b-4600-b3f0-d068e0360153",
   "metadata": {},
   "outputs": [],
   "source": []
  }
 ],
 "metadata": {
  "kernelspec": {
   "display_name": "Python 3 (ipykernel)",
   "language": "python",
   "name": "python3"
  },
  "language_info": {
   "codemirror_mode": {
    "name": "ipython",
    "version": 3
   },
   "file_extension": ".py",
   "mimetype": "text/x-python",
   "name": "python",
   "nbconvert_exporter": "python",
   "pygments_lexer": "ipython3",
   "version": "3.10.13"
  }
 },
 "nbformat": 4,
 "nbformat_minor": 5
}
