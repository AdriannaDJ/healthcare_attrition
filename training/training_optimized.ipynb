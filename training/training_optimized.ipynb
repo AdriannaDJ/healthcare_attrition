{
 "cells": [
  {
   "cell_type": "code",
   "execution_count": 1,
   "id": "5e6fc5b3-6504-4a96-8c16-9343fc074b6d",
   "metadata": {
    "tags": []
   },
   "outputs": [],
   "source": [
    "import pandas as pd\n",
    "from sklearn.ensemble import AdaBoostClassifier\n",
    "from sklearn.preprocessing import StandardScaler, OneHotEncoder\n",
    "from sklearn.model_selection import train_test_split\n",
    "from sklearn.metrics import classification_report\n",
    "from sklearn import metrics"
   ]
  },
  {
   "cell_type": "code",
   "execution_count": 2,
   "id": "0f9ef064-178d-457b-b391-9f8efb18b7f1",
   "metadata": {
    "tags": []
   },
   "outputs": [],
   "source": [
    "df=pd.read_csv('../Resources/watson_healthcare_modified.csv')"
   ]
  },
  {
   "cell_type": "code",
   "execution_count": 3,
   "id": "701e1934-bc0c-4f27-a75a-221094f98cb1",
   "metadata": {
    "tags": []
   },
   "outputs": [
    {
     "name": "stdout",
     "output_type": "stream",
     "text": [
      "<class 'pandas.core.frame.DataFrame'>\n",
      "RangeIndex: 1676 entries, 0 to 1675\n",
      "Data columns (total 27 columns):\n",
      " #   Column                    Non-Null Count  Dtype \n",
      "---  ------                    --------------  ----- \n",
      " 0   Age                       1676 non-null   int64 \n",
      " 1   Attrition                 1676 non-null   object\n",
      " 2   BusinessTravel            1676 non-null   object\n",
      " 3   Department                1676 non-null   object\n",
      " 4   DistanceFromHome          1676 non-null   int64 \n",
      " 5   Education                 1676 non-null   int64 \n",
      " 6   EducationField            1676 non-null   object\n",
      " 7   EnvironmentSatisfaction   1676 non-null   int64 \n",
      " 8   Gender                    1676 non-null   object\n",
      " 9   JobInvolvement            1676 non-null   int64 \n",
      " 10  JobLevel                  1676 non-null   int64 \n",
      " 11  JobRole                   1676 non-null   object\n",
      " 12  JobSatisfaction           1676 non-null   int64 \n",
      " 13  MaritalStatus             1676 non-null   object\n",
      " 14  MonthlyIncome             1676 non-null   int64 \n",
      " 15  NumCompaniesWorked        1676 non-null   int64 \n",
      " 16  OverTime                  1676 non-null   object\n",
      " 17  PercentSalaryHike         1676 non-null   int64 \n",
      " 18  PerformanceRating         1676 non-null   int64 \n",
      " 19  RelationshipSatisfaction  1676 non-null   int64 \n",
      " 20  Shift                     1676 non-null   int64 \n",
      " 21  TotalWorkingYears         1676 non-null   int64 \n",
      " 22  WorkLifeBalance           1676 non-null   int64 \n",
      " 23  YearsAtCompany            1676 non-null   int64 \n",
      " 24  YearsInCurrentRole        1676 non-null   int64 \n",
      " 25  YearsSinceLastPromotion   1676 non-null   int64 \n",
      " 26  YearsWithCurrManager      1676 non-null   int64 \n",
      "dtypes: int64(19), object(8)\n",
      "memory usage: 353.7+ KB\n"
     ]
    }
   ],
   "source": [
    "##Version 2: Remove additional columns\n",
    "df = df.drop(columns = ['EmployeeID', 'EmployeeCount', 'StandardHours', 'TrainingTimesLastYear', 'MonthlyRate', 'DailyRate', 'HourlyRate', 'Over18'])\n",
    "\n",
    "df.info()\n"
   ]
  },
  {
   "cell_type": "code",
   "execution_count": 4,
   "id": "1111fdf2",
   "metadata": {},
   "outputs": [
    {
     "data": {
      "text/html": [
       "<div>\n",
       "<style scoped>\n",
       "    .dataframe tbody tr th:only-of-type {\n",
       "        vertical-align: middle;\n",
       "    }\n",
       "\n",
       "    .dataframe tbody tr th {\n",
       "        vertical-align: top;\n",
       "    }\n",
       "\n",
       "    .dataframe thead th {\n",
       "        text-align: right;\n",
       "    }\n",
       "</style>\n",
       "<table border=\"1\" class=\"dataframe\">\n",
       "  <thead>\n",
       "    <tr style=\"text-align: right;\">\n",
       "      <th></th>\n",
       "      <th>Age (18-60)</th>\n",
       "      <th>Attrition</th>\n",
       "      <th>BusinessTravel</th>\n",
       "      <th>Department</th>\n",
       "      <th>Distance From Home (miles)</th>\n",
       "      <th>Education (1-5)</th>\n",
       "      <th>EducationField</th>\n",
       "      <th>Env. Satisfaction (1-4)</th>\n",
       "      <th>Gender</th>\n",
       "      <th>Job Involvement (1-4)</th>\n",
       "      <th>...</th>\n",
       "      <th>PercentSalaryHike</th>\n",
       "      <th>Performance Rating (1-4)</th>\n",
       "      <th>Relationship Satisfaction (1-4)</th>\n",
       "      <th>Shift (1-3)</th>\n",
       "      <th>TotalWorkingYears</th>\n",
       "      <th>WorkLifeBalance (1-4)</th>\n",
       "      <th>YearsAtCompany</th>\n",
       "      <th>YearsInCurrentRole</th>\n",
       "      <th>YearsSinceLastPromotion</th>\n",
       "      <th>YearsWithCurrManager</th>\n",
       "    </tr>\n",
       "  </thead>\n",
       "  <tbody>\n",
       "    <tr>\n",
       "      <th>0</th>\n",
       "      <td>41</td>\n",
       "      <td>No</td>\n",
       "      <td>Travel_Rarely</td>\n",
       "      <td>Cardiology</td>\n",
       "      <td>1</td>\n",
       "      <td>2</td>\n",
       "      <td>Life Sciences</td>\n",
       "      <td>2</td>\n",
       "      <td>Female</td>\n",
       "      <td>3</td>\n",
       "      <td>...</td>\n",
       "      <td>11</td>\n",
       "      <td>3</td>\n",
       "      <td>1</td>\n",
       "      <td>0</td>\n",
       "      <td>8</td>\n",
       "      <td>1</td>\n",
       "      <td>6</td>\n",
       "      <td>4</td>\n",
       "      <td>0</td>\n",
       "      <td>5</td>\n",
       "    </tr>\n",
       "    <tr>\n",
       "      <th>1</th>\n",
       "      <td>49</td>\n",
       "      <td>No</td>\n",
       "      <td>Travel_Frequently</td>\n",
       "      <td>Maternity</td>\n",
       "      <td>8</td>\n",
       "      <td>1</td>\n",
       "      <td>Life Sciences</td>\n",
       "      <td>3</td>\n",
       "      <td>Male</td>\n",
       "      <td>2</td>\n",
       "      <td>...</td>\n",
       "      <td>23</td>\n",
       "      <td>4</td>\n",
       "      <td>4</td>\n",
       "      <td>1</td>\n",
       "      <td>10</td>\n",
       "      <td>3</td>\n",
       "      <td>10</td>\n",
       "      <td>7</td>\n",
       "      <td>1</td>\n",
       "      <td>7</td>\n",
       "    </tr>\n",
       "    <tr>\n",
       "      <th>2</th>\n",
       "      <td>37</td>\n",
       "      <td>Yes</td>\n",
       "      <td>Travel_Rarely</td>\n",
       "      <td>Maternity</td>\n",
       "      <td>2</td>\n",
       "      <td>2</td>\n",
       "      <td>Other</td>\n",
       "      <td>4</td>\n",
       "      <td>Male</td>\n",
       "      <td>2</td>\n",
       "      <td>...</td>\n",
       "      <td>15</td>\n",
       "      <td>3</td>\n",
       "      <td>2</td>\n",
       "      <td>0</td>\n",
       "      <td>7</td>\n",
       "      <td>3</td>\n",
       "      <td>0</td>\n",
       "      <td>0</td>\n",
       "      <td>0</td>\n",
       "      <td>0</td>\n",
       "    </tr>\n",
       "    <tr>\n",
       "      <th>3</th>\n",
       "      <td>33</td>\n",
       "      <td>No</td>\n",
       "      <td>Travel_Frequently</td>\n",
       "      <td>Maternity</td>\n",
       "      <td>3</td>\n",
       "      <td>4</td>\n",
       "      <td>Life Sciences</td>\n",
       "      <td>4</td>\n",
       "      <td>Female</td>\n",
       "      <td>3</td>\n",
       "      <td>...</td>\n",
       "      <td>11</td>\n",
       "      <td>3</td>\n",
       "      <td>3</td>\n",
       "      <td>0</td>\n",
       "      <td>8</td>\n",
       "      <td>3</td>\n",
       "      <td>8</td>\n",
       "      <td>7</td>\n",
       "      <td>3</td>\n",
       "      <td>0</td>\n",
       "    </tr>\n",
       "    <tr>\n",
       "      <th>4</th>\n",
       "      <td>27</td>\n",
       "      <td>No</td>\n",
       "      <td>Travel_Rarely</td>\n",
       "      <td>Maternity</td>\n",
       "      <td>2</td>\n",
       "      <td>1</td>\n",
       "      <td>Medical</td>\n",
       "      <td>1</td>\n",
       "      <td>Male</td>\n",
       "      <td>3</td>\n",
       "      <td>...</td>\n",
       "      <td>12</td>\n",
       "      <td>3</td>\n",
       "      <td>4</td>\n",
       "      <td>1</td>\n",
       "      <td>6</td>\n",
       "      <td>3</td>\n",
       "      <td>2</td>\n",
       "      <td>2</td>\n",
       "      <td>2</td>\n",
       "      <td>2</td>\n",
       "    </tr>\n",
       "  </tbody>\n",
       "</table>\n",
       "<p>5 rows × 27 columns</p>\n",
       "</div>"
      ],
      "text/plain": [
       "   Age (18-60) Attrition     BusinessTravel  Department  \\\n",
       "0           41        No      Travel_Rarely  Cardiology   \n",
       "1           49        No  Travel_Frequently   Maternity   \n",
       "2           37       Yes      Travel_Rarely   Maternity   \n",
       "3           33        No  Travel_Frequently   Maternity   \n",
       "4           27        No      Travel_Rarely   Maternity   \n",
       "\n",
       "   Distance From Home (miles)  Education (1-5) EducationField  \\\n",
       "0                           1                2  Life Sciences   \n",
       "1                           8                1  Life Sciences   \n",
       "2                           2                2          Other   \n",
       "3                           3                4  Life Sciences   \n",
       "4                           2                1        Medical   \n",
       "\n",
       "   Env. Satisfaction (1-4)  Gender  Job Involvement (1-4)  ...  \\\n",
       "0                        2  Female                      3  ...   \n",
       "1                        3    Male                      2  ...   \n",
       "2                        4    Male                      2  ...   \n",
       "3                        4  Female                      3  ...   \n",
       "4                        1    Male                      3  ...   \n",
       "\n",
       "   PercentSalaryHike Performance Rating (1-4)  \\\n",
       "0                 11                        3   \n",
       "1                 23                        4   \n",
       "2                 15                        3   \n",
       "3                 11                        3   \n",
       "4                 12                        3   \n",
       "\n",
       "   Relationship Satisfaction (1-4) Shift (1-3)  TotalWorkingYears  \\\n",
       "0                                1           0                  8   \n",
       "1                                4           1                 10   \n",
       "2                                2           0                  7   \n",
       "3                                3           0                  8   \n",
       "4                                4           1                  6   \n",
       "\n",
       "   WorkLifeBalance (1-4) YearsAtCompany  YearsInCurrentRole  \\\n",
       "0                      1              6                   4   \n",
       "1                      3             10                   7   \n",
       "2                      3              0                   0   \n",
       "3                      3              8                   7   \n",
       "4                      3              2                   2   \n",
       "\n",
       "   YearsSinceLastPromotion  YearsWithCurrManager  \n",
       "0                        0                     5  \n",
       "1                        1                     7  \n",
       "2                        0                     0  \n",
       "3                        3                     0  \n",
       "4                        2                     2  \n",
       "\n",
       "[5 rows x 27 columns]"
      ]
     },
     "execution_count": 4,
     "metadata": {},
     "output_type": "execute_result"
    }
   ],
   "source": [
    "# Rename columns name to add number cap suggestion for future user input\n",
    "df.rename(columns={'Age':'Age (18-60)', 'DistanceFromHome':'Distance From Home (miles)', 'Education':'Education (1-5)', 'EnvironmentSatisfaction':'Env. Satisfaction (1-4)',\n",
    "                   'JobInvolvement':'Job Involvement (1-4)', 'JobLevel':'Job Level (1-5)', 'JobSatisfaction':'Job Satisfaction (1-4)', 'PerformanceRating':'Performance Rating (1-4)',\n",
    "                   'RelationshipSatisfaction':'Relationship Satisfaction (1-4)', 'Shift':'Shift (1-3)', 'WorkLifeBalance':'WorkLifeBalance (1-4)'}, inplace=True)\n",
    "df.head()"
   ]
  },
  {
   "cell_type": "code",
   "execution_count": 5,
   "id": "e670b48e-184b-4511-a232-a3cf2f30e186",
   "metadata": {
    "tags": []
   },
   "outputs": [
    {
     "name": "stdout",
     "output_type": "stream",
     "text": [
      "There should be 36 columns\n"
     ]
    }
   ],
   "source": [
    "target='Attrition'\n",
    "# remove target\n",
    "X=df.drop(columns=['Attrition']).copy()\n",
    "# get list of columns\n",
    "cols=list(X.columns)\n",
    "# start choices dictionary to capture categorical options for HTML\n",
    "choices={col: None for col in cols}\n",
    "\n",
    "# get all categorical columns\n",
    "cat_cols=X.dtypes[X.dtypes=='object'].index\n",
    "# get all continuous columns\n",
    "cont_cols=X.dtypes[X.dtypes!='object'].index\n",
    "# get all categorical features\n",
    "unique_vals_count=df[cat_cols].nunique().sum()\n",
    "print(f'There should be {len(cont_cols)-len(cat_cols)+unique_vals_count} columns')"
   ]
  },
  {
   "cell_type": "code",
   "execution_count": 6,
   "id": "7969a15d-8f2d-4c22-865f-93368d9aacfb",
   "metadata": {
    "tags": []
   },
   "outputs": [],
   "source": [
    "# set X as only continuous features\n",
    "X=X.drop(columns=cat_cols).copy()\n",
    "\n",
    "# OHE transform categorical features\n",
    "ohe=OneHotEncoder(sparse_output=False)\n",
    "cat_cols_transformed=ohe.fit_transform(df[cat_cols])\n",
    "categories=ohe.categories_\n",
    "cat_feature_names=ohe.get_feature_names_out()\n",
    "\n",
    "# map options to each categorical variable for HTML\n",
    "for k, v in zip(cat_cols, categories): \n",
    "    choices[k]=list(v)"
   ]
  },
  {
   "cell_type": "code",
   "execution_count": 7,
   "id": "722181dd-f2ca-4e8b-9157-cb7a098df271",
   "metadata": {
    "tags": []
   },
   "outputs": [],
   "source": [
    "X[cat_feature_names]=cat_cols_transformed\n",
    "y=df[target].copy()"
   ]
  },
  {
   "cell_type": "code",
   "execution_count": 8,
   "id": "339ebaa8-7247-48d2-8398-0d2a32e5acf0",
   "metadata": {
    "tags": []
   },
   "outputs": [],
   "source": [
    "X_train, X_test, y_train, y_test=train_test_split(X, y)"
   ]
  },
  {
   "cell_type": "code",
   "execution_count": 9,
   "id": "cac4b37c-4f2e-49d2-9182-d68fd7b9cb07",
   "metadata": {
    "tags": []
   },
   "outputs": [],
   "source": [
    "scaler=StandardScaler()\n",
    "scaler.fit(X_train)\n",
    "X_train_scaled=scaler.transform(X_train)\n",
    "X_test_scaled=scaler.transform(X_test)"
   ]
  },
  {
   "cell_type": "code",
   "execution_count": 10,
   "id": "ac56f5bb-9650-49c4-b475-e7e2c87f1db4",
   "metadata": {
    "tags": []
   },
   "outputs": [
    {
     "name": "stdout",
     "output_type": "stream",
     "text": [
      "Accuracy: 0.9355608591885441\n"
     ]
    }
   ],
   "source": [
    "# Create adaboost classifer object\n",
    "abc = AdaBoostClassifier(n_estimators=50,learning_rate=1)\n",
    "# Train Adaboost Classifer\n",
    "model = abc.fit(X_train, y_train)\n",
    "#Predict the response for test dataset\n",
    "y_pred = model.predict(X_test)\n",
    "\n",
    "print(\"Accuracy:\",metrics.accuracy_score(y_test, y_pred))"
   ]
  },
  {
   "cell_type": "code",
   "execution_count": 11,
   "id": "2464acc5-7f54-410a-88f8-6e6282bea61a",
   "metadata": {
    "tags": []
   },
   "outputs": [],
   "source": [
    "import pickle\n",
    "\n",
    "with open('choices.pkl', 'wb') as f: \n",
    "    pickle.dump(choices, f)\n",
    "        \n",
    "with open('scaler.pkl', 'wb') as f: \n",
    "    pickle.dump(scaler, f)\n",
    "    \n",
    "with open('ohe.pkl', 'wb') as f: \n",
    "    pickle.dump(ohe, f)    \n",
    "    \n",
    "with open('model.pkl', 'wb') as f: \n",
    "    pickle.dump(abc, f)"
   ]
  },
  {
   "cell_type": "code",
   "execution_count": null,
   "id": "4bb6af8b-206b-4600-b3f0-d068e0360153",
   "metadata": {},
   "outputs": [],
   "source": []
  }
 ],
 "metadata": {
  "kernelspec": {
   "display_name": "Python 3 (ipykernel)",
   "language": "python",
   "name": "python3"
  },
  "language_info": {
   "codemirror_mode": {
    "name": "ipython",
    "version": 3
   },
   "file_extension": ".py",
   "mimetype": "text/x-python",
   "name": "python",
   "nbconvert_exporter": "python",
   "pygments_lexer": "ipython3",
   "version": "3.10.13"
  }
 },
 "nbformat": 4,
 "nbformat_minor": 5
}
